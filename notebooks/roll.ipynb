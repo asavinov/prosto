{
 "cells": [
  {
   "cell_type": "markdown",
   "metadata": {},
   "source": [
    "# Rolling aggregation column\n",
    "\n",
    "In this example, we demonstrate how to define a column using rolling aggregation.\n",
    "\n",
    "Generally, aggregate columns have to describe two aspects in their definition: \n",
    "\n",
    "* how to group elements and \n",
    "* how to aggregate data in the groups \n",
    "\n",
    "There are two general ways to group elements: \n",
    "\n",
    "* Partition elements of one (fact) table into non-overlapping groups using some property with respect to elements of another (group) table which has to be equal for all elements in one group. In SQL, it is implemented as GROUP-BY operation.\n",
    "* Group elements of a table around elements of this same table using some binary relation among them which can be treated as distance. It is typically implemented in rolling aggregation.\n",
    "\n",
    "In this example, we describe the second approach where we want to find a sum of sold quantities for the several previous records."
   ]
  },
  {
   "cell_type": "code",
   "execution_count": 13,
   "metadata": {},
   "outputs": [],
   "source": [
    "import pandas as pd  # Prosto relies on pandas\n",
    "import prosto as pr  # Import Prosto toolkit"
   ]
  },
  {
   "cell_type": "markdown",
   "metadata": {},
   "source": [
    "### Create a new workflow"
   ]
  },
  {
   "cell_type": "code",
   "execution_count": 14,
   "metadata": {
    "scrolled": true
   },
   "outputs": [
    {
     "name": "stdout",
     "output_type": "stream",
     "text": [
      "Workflow name is: ´My Prosto Workflow´\n"
     ]
    }
   ],
   "source": [
    "# Create a workflow\n",
    "prosto = pr.Prosto(\"My Prosto Workflow\")\n",
    "# Element name is stored in the id field\n",
    "print(\"Workflow name is: ´{}´\".format(prosto.id))"
   ]
  },
  {
   "cell_type": "markdown",
   "metadata": {},
   "source": [
    "### Define a source table\n",
    "\n",
    "We use in-memory data for populating this table and not data from any other table in the workflow.\n",
    "\n",
    "This table stores sales data. Each time some product is sold a new record is added to this table. Therefore, we assume that all records are ordered according to the time of creation."
   ]
  },
  {
   "cell_type": "code",
   "execution_count": 15,
   "metadata": {},
   "outputs": [],
   "source": [
    "sales_data = {\n",
    "    'product_name': [\"beer\", \"chips\", \"chips\", \"beer\", \"chips\"],\n",
    "    'quantity': [1, 2, 3, 2, 1],\n",
    "    'price': [10.0, 5.0, 6.0, 15.0, 4.0]\n",
    "}\n",
    "\n",
    "sales = prosto.populate(\n",
    "    # A table definition consists of a name and a list of attributes\n",
    "    table_name=\"Sales\", attributes=[\"product_name\", \"quantity\", \"price\"],\n",
    "\n",
    "    # Table operation is UDF, input tables and model\n",
    "    func=lambda **m: pd.DataFrame(data=sales_data), tables=[]\n",
    ")"
   ]
  },
  {
   "cell_type": "markdown",
   "metadata": {},
   "source": [
    "### Define an aggregate column\n",
    "\n",
    "For each record of this table, this column will compute a characteristic, which depends on a number of related records of this same table (not another table). The window parameter determines a group of other (related) records for each record of this table. More specificially, it will select the specified number of previous records."
   ]
  },
  {
   "cell_type": "code",
   "execution_count": 16,
   "metadata": {},
   "outputs": [],
   "source": [
    "total = prosto.roll(\n",
    "    # Column description\n",
    "    name=\"quantity_sold\", table=sales.id,\n",
    "    # How to group\n",
    "    window=3,\n",
    "    # How to aggregate\n",
    "    func=\"lambda x: x.sum()\", columns=[\"quantity\"], model={},\n",
    ")"
   ]
  },
  {
   "cell_type": "markdown",
   "metadata": {},
   "source": [
    "### Execute the workflow\n",
    "\n",
    "Above we provided only definitions. In order to really compute the result, we need to execute the workflow. This operation will build a topology (a graph of table and column operations) and then execute these operations according to their dependencies."
   ]
  },
  {
   "cell_type": "code",
   "execution_count": 17,
   "metadata": {},
   "outputs": [],
   "source": [
    "prosto.run()"
   ]
  },
  {
   "cell_type": "markdown",
   "metadata": {},
   "source": [
    "### Explore the result\n",
    "\n",
    "Once the workflow has been executed, we can read the result data."
   ]
  },
  {
   "cell_type": "code",
   "execution_count": 18,
   "metadata": {
    "scrolled": false
   },
   "outputs": [
    {
     "data": {
      "text/html": [
       "<div>\n",
       "<style scoped>\n",
       "    .dataframe tbody tr th:only-of-type {\n",
       "        vertical-align: middle;\n",
       "    }\n",
       "\n",
       "    .dataframe tbody tr th {\n",
       "        vertical-align: top;\n",
       "    }\n",
       "\n",
       "    .dataframe thead th {\n",
       "        text-align: right;\n",
       "    }\n",
       "</style>\n",
       "<table border=\"1\" class=\"dataframe\">\n",
       "  <thead>\n",
       "    <tr style=\"text-align: right;\">\n",
       "      <th></th>\n",
       "      <th>product_name</th>\n",
       "      <th>quantity</th>\n",
       "      <th>price</th>\n",
       "      <th>quantity_sold</th>\n",
       "    </tr>\n",
       "  </thead>\n",
       "  <tbody>\n",
       "    <tr>\n",
       "      <th>0</th>\n",
       "      <td>beer</td>\n",
       "      <td>1</td>\n",
       "      <td>10.0</td>\n",
       "      <td>None</td>\n",
       "    </tr>\n",
       "    <tr>\n",
       "      <th>1</th>\n",
       "      <td>chips</td>\n",
       "      <td>2</td>\n",
       "      <td>5.0</td>\n",
       "      <td>None</td>\n",
       "    </tr>\n",
       "    <tr>\n",
       "      <th>2</th>\n",
       "      <td>chips</td>\n",
       "      <td>3</td>\n",
       "      <td>6.0</td>\n",
       "      <td>6</td>\n",
       "    </tr>\n",
       "    <tr>\n",
       "      <th>3</th>\n",
       "      <td>beer</td>\n",
       "      <td>2</td>\n",
       "      <td>15.0</td>\n",
       "      <td>7</td>\n",
       "    </tr>\n",
       "    <tr>\n",
       "      <th>4</th>\n",
       "      <td>chips</td>\n",
       "      <td>1</td>\n",
       "      <td>4.0</td>\n",
       "      <td>6</td>\n",
       "    </tr>\n",
       "  </tbody>\n",
       "</table>\n",
       "</div>"
      ],
      "text/plain": [
       "  product_name quantity  price quantity_sold\n",
       "0         beer        1   10.0          None\n",
       "1        chips        2    5.0          None\n",
       "2        chips        3    6.0             6\n",
       "3         beer        2   15.0             7\n",
       "4        chips        1    4.0             6"
      ]
     },
     "execution_count": 18,
     "metadata": {},
     "output_type": "execute_result"
    }
   ],
   "source": [
    "table_data = sales.get_data()\n",
    "table_data.head()"
   ]
  },
  {
   "cell_type": "markdown",
   "metadata": {},
   "source": [
    "### Summary\n",
    "\n",
    "* A rolling aggregation column groups elements of the table it belongs to (not another table with facts)\n",
    "* A rolling aggregation column aggregates data by means of an arbitrary user-defined function (in the same way as a groupig columns)\n",
    "* Like any other column, it can be used in other definitions"
   ]
  }
 ],
 "metadata": {
  "kernelspec": {
   "display_name": "Python 3",
   "language": "python",
   "name": "python3"
  },
  "language_info": {
   "codemirror_mode": {
    "name": "ipython",
    "version": 3
   },
   "file_extension": ".py",
   "mimetype": "text/x-python",
   "name": "python",
   "nbconvert_exporter": "python",
   "pygments_lexer": "ipython3",
   "version": "3.7.6"
  }
 },
 "nbformat": 4,
 "nbformat_minor": 2
}
