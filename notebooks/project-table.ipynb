{
 "cells": [
  {
   "cell_type": "markdown",
   "metadata": {},
   "source": [
    "# Project table\n",
    "\n",
    "In this example, we demonstrate how to define a table which will be populated with unique values from another (source) table. Simultaniously, a link column will be evaluated which connects these two tables."
   ]
  },
  {
   "cell_type": "code",
   "execution_count": 10,
   "metadata": {},
   "outputs": [],
   "source": [
    "import pandas as pd  # Prosto relies on pandas\n",
    "import prosto as prst  # Import Prosto toolkit"
   ]
  },
  {
   "cell_type": "markdown",
   "metadata": {},
   "source": [
    "### Create a new workflow"
   ]
  },
  {
   "cell_type": "code",
   "execution_count": 11,
   "metadata": {
    "scrolled": true
   },
   "outputs": [
    {
     "name": "stdout",
     "output_type": "stream",
     "text": [
      "Workflow name is: ´My workflow´\n"
     ]
    }
   ],
   "source": [
    "# Create a workflow\n",
    "workflow = prst.Schema(\"My workflow\")\n",
    "# Element name is stored in the id field\n",
    "print(\"Workflow name is: ´{}´\".format(workflow.id))"
   ]
  },
  {
   "cell_type": "markdown",
   "metadata": {},
   "source": [
    "### Define source data\n",
    "\n",
    "In this example, we use an in-memory data source as a data frame. In more realistic cases, it can a csv file or database."
   ]
  },
  {
   "cell_type": "code",
   "execution_count": 12,
   "metadata": {},
   "outputs": [],
   "source": [
    "sales_data = {\n",
    "    'product_name': [\"beer\", \"chips\", \"chips\", \"beer\", \"chips\"],\n",
    "    'quantity': [1, 2, 3, 2, 1],\n",
    "    'price': [10.0, 5.0, 6.0, 15.0, 4.0]\n",
    "}\n",
    "sales_df = pd.DataFrame(data=sales_data)"
   ]
  },
  {
   "cell_type": "markdown",
   "metadata": {},
   "source": [
    "### Define a source populate table\n",
    "\n",
    "It is the simplest way to define a table by means of a user-defined function.\n",
    "\n",
    "To define a table we need to provide a name as well as a list of its attributes. Attribbutes contain data which will be set during the table population.\n",
    "\n",
    "How a table is populated is specified by a user-defined function. In this example, this function returns a data frame with the data without any computatioens. Therefore, the list of input tables is empty and also we use an empty model (parameters of the population procedure).\n",
    "\n",
    "The last parameter indicates that the user-defined function returns a whole table."
   ]
  },
  {
   "cell_type": "code",
   "execution_count": 13,
   "metadata": {},
   "outputs": [],
   "source": [
    "sales = workflow.create_populate_table(\n",
    "    # A table definition consists of a name and a list of attributes\n",
    "    table_name=\"Sales\", attributes=[\"product_name\", \"quantity\", \"price\"],\n",
    "\n",
    "    # Table operation is UDF, input tables and model\n",
    "    func=lambda **m: sales_df, tables=[], model={},\n",
    "\n",
    "    # The user-defined function returns a complete data frame\n",
    "    input_length='table'\n",
    ")"
   ]
  },
  {
   "cell_type": "markdown",
   "metadata": {},
   "source": [
    "### Define a project table\n",
    "\n",
    "Our goal is to creae a table with a list of all (unique) products by using data from the source table. \n",
    "\n",
    "A project table contains data projected from another table. The data projected along the specified list of columns."
   ]
  },
  {
   "cell_type": "code",
   "execution_count": 14,
   "metadata": {},
   "outputs": [],
   "source": [
    "products = workflow.create_project_table(\n",
    "    # A table definition consists of a name and a list of attributes\n",
    "    table_name=\"Products\", attributes=[\"name\"],\n",
    "\n",
    "    # This parameter specifies a column of the input table which will store row ids of this table\n",
    "    link=\"product\",\n",
    "\n",
    "    # Here we specify an input table to be projected\n",
    "    tables=[\"Sales\"]\n",
    ")"
   ]
  },
  {
   "cell_type": "markdown",
   "metadata": {},
   "source": [
    "### Define a link column\n",
    "\n",
    "A link column stores row ids of some other table. These row ids are interpreted as references and hence it is possible to use these columns in order to access values from other tables."
   ]
  },
  {
   "cell_type": "code",
   "execution_count": 15,
   "metadata": {},
   "outputs": [],
   "source": [
    "link_column = workflow.create_link_column(\n",
    "    # In contrast to other columns, a link column specifies its target table name\n",
    "    name=\"product\", table=sales.id, type=products.id,\n",
    "\n",
    "    # It is a criterion of linking: all input columns have to be equal to the output columns\n",
    "    columns=[\"product_name\"], linked_columns=[\"name\"]\n",
    ")"
   ]
  },
  {
   "cell_type": "markdown",
   "metadata": {},
   "source": [
    "### Execute the workflow\n",
    "\n",
    "Above we provided only definitions. In order to really compute the result we need to execute the workflow. This operation will build a topology (a graph of table and column operations) and then execute these operations according to their dependencies."
   ]
  },
  {
   "cell_type": "code",
   "execution_count": 16,
   "metadata": {},
   "outputs": [],
   "source": [
    "workflow.run()"
   ]
  },
  {
   "cell_type": "markdown",
   "metadata": {},
   "source": [
    "### Explore the result\n",
    "\n",
    "Once the workflow has been executed we can read the result data."
   ]
  },
  {
   "cell_type": "code",
   "execution_count": 17,
   "metadata": {
    "scrolled": false
   },
   "outputs": [
    {
     "data": {
      "text/html": [
       "<div>\n",
       "<style scoped>\n",
       "    .dataframe tbody tr th:only-of-type {\n",
       "        vertical-align: middle;\n",
       "    }\n",
       "\n",
       "    .dataframe tbody tr th {\n",
       "        vertical-align: top;\n",
       "    }\n",
       "\n",
       "    .dataframe thead th {\n",
       "        text-align: right;\n",
       "    }\n",
       "</style>\n",
       "<table border=\"1\" class=\"dataframe\">\n",
       "  <thead>\n",
       "    <tr style=\"text-align: right;\">\n",
       "      <th></th>\n",
       "      <th>name</th>\n",
       "    </tr>\n",
       "  </thead>\n",
       "  <tbody>\n",
       "    <tr>\n",
       "      <th>0</th>\n",
       "      <td>beer</td>\n",
       "    </tr>\n",
       "    <tr>\n",
       "      <th>1</th>\n",
       "      <td>chips</td>\n",
       "    </tr>\n",
       "  </tbody>\n",
       "</table>\n",
       "</div>"
      ],
      "text/plain": [
       "    name\n",
       "0   beer\n",
       "1  chips"
      ]
     },
     "metadata": {},
     "output_type": "display_data"
    }
   ],
   "source": [
    "from IPython.display import display\n",
    "\n",
    "table_data = products.get_data()\n",
    "display(table_data)"
   ]
  },
  {
   "cell_type": "code",
   "execution_count": 18,
   "metadata": {
    "scrolled": true
   },
   "outputs": [
    {
     "data": {
      "text/html": [
       "<div>\n",
       "<style scoped>\n",
       "    .dataframe tbody tr th:only-of-type {\n",
       "        vertical-align: middle;\n",
       "    }\n",
       "\n",
       "    .dataframe tbody tr th {\n",
       "        vertical-align: top;\n",
       "    }\n",
       "\n",
       "    .dataframe thead th {\n",
       "        text-align: right;\n",
       "    }\n",
       "</style>\n",
       "<table border=\"1\" class=\"dataframe\">\n",
       "  <thead>\n",
       "    <tr style=\"text-align: right;\">\n",
       "      <th></th>\n",
       "      <th>product_name</th>\n",
       "      <th>quantity</th>\n",
       "      <th>price</th>\n",
       "      <th>product</th>\n",
       "    </tr>\n",
       "  </thead>\n",
       "  <tbody>\n",
       "    <tr>\n",
       "      <th>0</th>\n",
       "      <td>beer</td>\n",
       "      <td>1</td>\n",
       "      <td>10.0</td>\n",
       "      <td>0</td>\n",
       "    </tr>\n",
       "    <tr>\n",
       "      <th>1</th>\n",
       "      <td>chips</td>\n",
       "      <td>2</td>\n",
       "      <td>5.0</td>\n",
       "      <td>1</td>\n",
       "    </tr>\n",
       "    <tr>\n",
       "      <th>2</th>\n",
       "      <td>chips</td>\n",
       "      <td>3</td>\n",
       "      <td>6.0</td>\n",
       "      <td>1</td>\n",
       "    </tr>\n",
       "    <tr>\n",
       "      <th>3</th>\n",
       "      <td>beer</td>\n",
       "      <td>2</td>\n",
       "      <td>15.0</td>\n",
       "      <td>0</td>\n",
       "    </tr>\n",
       "    <tr>\n",
       "      <th>4</th>\n",
       "      <td>chips</td>\n",
       "      <td>1</td>\n",
       "      <td>4.0</td>\n",
       "      <td>1</td>\n",
       "    </tr>\n",
       "  </tbody>\n",
       "</table>\n",
       "</div>"
      ],
      "text/plain": [
       "  product_name  quantity  price  product\n",
       "0         beer         1   10.0        0\n",
       "1        chips         2    5.0        1\n",
       "2        chips         3    6.0        1\n",
       "3         beer         2   15.0        0\n",
       "4        chips         1    4.0        1"
      ]
     },
     "metadata": {},
     "output_type": "display_data"
    }
   ],
   "source": [
    "table_data = sales.get_data()\n",
    "display(table_data)"
   ]
  },
  {
   "cell_type": "markdown",
   "metadata": {},
   "source": [
    "### Summary\n",
    "\n",
    "* A project table stores all unique combinations of the specified columns in an input table. In this example, we generated a list of all unique products in a separate table. In future, we can define new columns in this project table.\n",
    "* A link columns has to be defined along with a project table. This column will store a mapping from the input table to the target table. This column can be used in other definitions where it is necessary to access related records."
   ]
  }
 ],
 "metadata": {
  "kernelspec": {
   "display_name": "Python 3",
   "language": "python",
   "name": "python3"
  },
  "language_info": {
   "codemirror_mode": {
    "name": "ipython",
    "version": 3
   },
   "file_extension": ".py",
   "mimetype": "text/x-python",
   "name": "python",
   "nbconvert_exporter": "python",
   "pygments_lexer": "ipython3",
   "version": "3.7.3"
  }
 },
 "nbformat": 4,
 "nbformat_minor": 2
}
