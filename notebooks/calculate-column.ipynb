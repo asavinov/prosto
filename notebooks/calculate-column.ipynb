{
 "cells": [
  {
   "cell_type": "markdown",
   "metadata": {},
   "source": [
    "# Calculate column\n",
    "\n",
    "In this example, we demonstrate how to define a simple in-memory table and a calculate column which will compute its output values as a product of two input values."
   ]
  },
  {
   "cell_type": "code",
   "execution_count": 8,
   "metadata": {},
   "outputs": [],
   "source": [
    "import pandas as pd  # Prosto relies on pandas\n",
    "import prosto as pr  # Import Prosto toolkit"
   ]
  },
  {
   "cell_type": "markdown",
   "metadata": {},
   "source": [
    "### Create a new workflow"
   ]
  },
  {
   "cell_type": "code",
   "execution_count": 9,
   "metadata": {},
   "outputs": [
    {
     "ename": "SyntaxError",
     "evalue": "unexpected EOF while parsing (<ipython-input-9-ff5ef43d1c73>, line 4)",
     "output_type": "error",
     "traceback": [
      "\u001b[1;36m  File \u001b[1;32m\"<ipython-input-9-ff5ef43d1c73>\"\u001b[1;36m, line \u001b[1;32m4\u001b[0m\n\u001b[1;33m    print(f\"Workflow name is: ´{workflow.id}´\"\u001b[0m\n\u001b[1;37m                                              ^\u001b[0m\n\u001b[1;31mSyntaxError\u001b[0m\u001b[1;31m:\u001b[0m unexpected EOF while parsing\n"
     ]
    }
   ],
   "source": [
    "# Create a workflow\n",
    "workflow = pr.Schema(\"My workflow\")\n",
    "# Element name is stored in the id field\n",
    "print(f\"Workflow name is: ´{workflow.id}´\""
   ]
  },
  {
   "cell_type": "markdown",
   "metadata": {},
   "source": [
    "### Define source data\n",
    "\n",
    "In this example, we use an in-memory data source as a data frame. In more realistic cases, it can a csv file or database."
   ]
  },
  {
   "cell_type": "code",
   "execution_count": null,
   "metadata": {},
   "outputs": [],
   "source": [
    "sales_data = {\n",
    "    'product_name': [\"beer\", \"chips\", \"chips\", \"beer\", \"chips\"],\n",
    "    'quantity': [1, 2, 3, 2, 1],\n",
    "    'price': [10.0, 5.0, 6.0, 15.0, 4.0]\n",
    "}\n",
    "sales_df = pd.DataFrame(data=sales_data)"
   ]
  },
  {
   "cell_type": "markdown",
   "metadata": {},
   "source": [
    "### Define a source populate table\n",
    "\n",
    "It is the simplest way to define a table by means of a user-defined function.\n",
    "\n",
    "To define a table, we need to provide a name as well as a list of its attributes. Attributes contain data which will be set during the table population.\n",
    "\n",
    "How a table is populated is specified by a user-defined function. In this example, this function returns a data frame with the data without any computations. Therefore, the list of input tables is empty and also we use an empty model (parameters of the population procedure).\n",
    "\n",
    "The last parameter indicates that the user-defined function returns a whole table."
   ]
  },
  {
   "cell_type": "code",
   "execution_count": null,
   "metadata": {},
   "outputs": [],
   "source": [
    "sales = workflow.create_populate_table(\n",
    "    # A table definition consists of a name and a list of attributes\n",
    "    table_name=\"Sales\", attributes=[\"product_name\", \"quantity\", \"price\"],\n",
    "\n",
    "    # Table operation is UDF, input tables and model\n",
    "    func=lambda **m: sales_df, tables=[], model={},\n",
    "\n",
    "    # The user-defined function returns a complete data frame\n",
    "    input_length='table'\n",
    ")"
   ]
  },
  {
   "cell_type": "markdown",
   "metadata": {},
   "source": [
    "### Define a calculate column\n",
    "\n",
    "To define a new column, we need to provide a name as well as a table it belongs to.\n",
    "\n",
    "A calculate column computes its data from the data in the same row in the input columns by means of a user-defined function. In this case, the output is computed as a product of the quantity and price attributes. The model is empty because the user-defined function does not use external parameters.\n",
    "\n",
    "The last argument indicates that the user-defined function computes one value for one row and not the whole column."
   ]
  },
  {
   "cell_type": "code",
   "execution_count": 10,
   "metadata": {},
   "outputs": [],
   "source": [
    "calc_column = workflow.create_calculate_column(\n",
    "    # Column definition consists of a name and a table it belongs to\n",
    "    name=\"amount\", table=sales.id,\n",
    "\n",
    "    # Column operation is UDF, input columns and model\n",
    "    func=lambda x: x[0]*x[1], columns=[\"quantity\", \"price\"], model=None,\n",
    "\n",
    "    # The user-defined function retuns one value for one row\n",
    "    input_length='value'\n",
    ")"
   ]
  },
  {
   "cell_type": "markdown",
   "metadata": {},
   "source": [
    "### Execute the workflow\n",
    "\n",
    "Above we provided only definitions. In order to really compute the result, we need to execute the workflow. This operation will build a topology (a graph of table and column operations) and then execute these operations according to their dependencies."
   ]
  },
  {
   "cell_type": "code",
   "execution_count": 11,
   "metadata": {},
   "outputs": [],
   "source": [
    "workflow.run()"
   ]
  },
  {
   "cell_type": "markdown",
   "metadata": {},
   "source": [
    "### Explore the result\n",
    "\n",
    "Once the workflow has been executed, we can read the result data."
   ]
  },
  {
   "cell_type": "code",
   "execution_count": 12,
   "metadata": {},
   "outputs": [
    {
     "data": {
      "text/html": [
       "<div>\n",
       "<style scoped>\n",
       "    .dataframe tbody tr th:only-of-type {\n",
       "        vertical-align: middle;\n",
       "    }\n",
       "\n",
       "    .dataframe tbody tr th {\n",
       "        vertical-align: top;\n",
       "    }\n",
       "\n",
       "    .dataframe thead th {\n",
       "        text-align: right;\n",
       "    }\n",
       "</style>\n",
       "<table border=\"1\" class=\"dataframe\">\n",
       "  <thead>\n",
       "    <tr style=\"text-align: right;\">\n",
       "      <th></th>\n",
       "      <th>product_name</th>\n",
       "      <th>quantity</th>\n",
       "      <th>price</th>\n",
       "      <th>amount</th>\n",
       "    </tr>\n",
       "  </thead>\n",
       "  <tbody>\n",
       "    <tr>\n",
       "      <td>5</td>\n",
       "      <td>NaN</td>\n",
       "      <td>NaN</td>\n",
       "      <td>NaN</td>\n",
       "      <td>None</td>\n",
       "    </tr>\n",
       "    <tr>\n",
       "      <td>6</td>\n",
       "      <td>NaN</td>\n",
       "      <td>NaN</td>\n",
       "      <td>NaN</td>\n",
       "      <td>None</td>\n",
       "    </tr>\n",
       "    <tr>\n",
       "      <td>7</td>\n",
       "      <td>NaN</td>\n",
       "      <td>NaN</td>\n",
       "      <td>NaN</td>\n",
       "      <td>None</td>\n",
       "    </tr>\n",
       "    <tr>\n",
       "      <td>8</td>\n",
       "      <td>NaN</td>\n",
       "      <td>NaN</td>\n",
       "      <td>NaN</td>\n",
       "      <td>None</td>\n",
       "    </tr>\n",
       "    <tr>\n",
       "      <td>9</td>\n",
       "      <td>NaN</td>\n",
       "      <td>NaN</td>\n",
       "      <td>NaN</td>\n",
       "      <td>None</td>\n",
       "    </tr>\n",
       "  </tbody>\n",
       "</table>\n",
       "</div>"
      ],
      "text/plain": [
       "  product_name quantity  price amount\n",
       "5          NaN      NaN    NaN   None\n",
       "6          NaN      NaN    NaN   None\n",
       "7          NaN      NaN    NaN   None\n",
       "8          NaN      NaN    NaN   None\n",
       "9          NaN      NaN    NaN   None"
      ]
     },
     "execution_count": 12,
     "metadata": {},
     "output_type": "execute_result"
    }
   ],
   "source": [
    "table_data = sales.get_data()\n",
    "column_data = sales.get_column_data(\"amount\")\n",
    "\n",
    "table_data.head()"
   ]
  },
  {
   "cell_type": "markdown",
   "metadata": {},
   "source": [
    "### Summary\n",
    "\n",
    "* The logic of computations is specified via an arbitrary user-defined function\n",
    "* A user-defined function manipulates individual values and is unaware of columns and tables. It is like an Excel formula\n",
    "* We can change source data, then again execute the workflow and get new result."
   ]
  }
 ],
 "metadata": {
  "kernelspec": {
   "display_name": "Python 3",
   "language": "python",
   "name": "python3"
  },
  "language_info": {
   "codemirror_mode": {
    "name": "ipython",
    "version": 3
   },
   "file_extension": ".py",
   "mimetype": "text/x-python",
   "name": "python",
   "nbconvert_exporter": "python",
   "pygments_lexer": "ipython3",
   "version": "3.7.4"
  }
 },
 "nbformat": 4,
 "nbformat_minor": 2
}
