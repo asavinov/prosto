{
 "cells": [
  {
   "cell_type": "markdown",
   "metadata": {},
   "source": [
    "# Aggregate column\n",
    "\n",
    "In this example, we demonstrate how to define a column using grouping and aggregation. \n",
    "\n",
    "Generally, aggregate columns have to describe two aspects in their definition: \n",
    "\n",
    "* how to group elements and \n",
    "* how to aggregate data in the groups \n",
    "\n",
    "There are two general ways to group elements: \n",
    "\n",
    "* Partition elements of one (fact) table into non-overlapping groups using some property with respect to elements of another (group) table which has to be equal for all elements in one group. In SQL, it is implemented as GROUP-BY operation.\n",
    "* Group elements of a table around elements of this same table using some binary relation among them which can be treated as distance. It is typically implemented in rolling aggregation.\n",
    "\n",
    "In this example, we describe the first approach where sales records are aggregated and the results are stored as a new column of the product table. More specifically, we want to find sales for each product by aggregating data in the sale table."
   ]
  },
  {
   "cell_type": "code",
   "execution_count": 11,
   "metadata": {},
   "outputs": [],
   "source": [
    "import pandas as pd  # Prosto relies on pandas\n",
    "import prosto as pr  # Import Prosto toolkit"
   ]
  },
  {
   "cell_type": "markdown",
   "metadata": {},
   "source": [
    "### Create a new workflow"
   ]
  },
  {
   "cell_type": "code",
   "execution_count": 12,
   "metadata": {
    "scrolled": true
   },
   "outputs": [
    {
     "name": "stdout",
     "output_type": "stream",
     "text": [
      "Workflow name is: ´My Prosto Workflow´\n"
     ]
    }
   ],
   "source": [
    "# Create a workflow\n",
    "prosto = pr.Prosto(\"My Prosto Workflow\")\n",
    "# Element name is stored in the id field\n",
    "print(\"Workflow name is: ´{}´\".format(prosto.id))"
   ]
  },
  {
   "cell_type": "markdown",
   "metadata": {},
   "source": [
    "### Define a source table\n",
    "\n",
    "We use in-memory data for populating this table and not data from any other table in the workflow.\n",
    "\n",
    "This table stores sales data. Each time some product is sold a new record is added to this table."
   ]
  },
  {
   "cell_type": "code",
   "execution_count": 13,
   "metadata": {},
   "outputs": [],
   "source": [
    "sales_data = {\n",
    "    'product_name': [\"beer\", \"chips\", \"chips\", \"beer\", \"chips\"],\n",
    "    'quantity': [1, 2, 3, 2, 1],\n",
    "    'price': [10.0, 5.0, 6.0, 15.0, 4.0]\n",
    "}\n",
    "\n",
    "sales = prosto.populate(\n",
    "    # A table definition consists of a name and a list of attributes\n",
    "    table_name=\"Sales\", attributes=[\"product_name\", \"quantity\", \"price\"],\n",
    "\n",
    "    # Table operation is UDF, input tables and model\n",
    "    func=lambda **m: pd.DataFrame(data=sales_data), tables=[]\n",
    ")"
   ]
  },
  {
   "cell_type": "markdown",
   "metadata": {},
   "source": [
    "### Define a target table\n",
    "\n",
    "This table stores a list of products. Note that the list of products is loaded from memory and not generated from any other table in the workflow. In particular, it is not generated from the sales table (this could be done by means of the project operation). Product names should be unique because otherwise the linking will be ambiguous."
   ]
  },
  {
   "cell_type": "code",
   "execution_count": 14,
   "metadata": {},
   "outputs": [],
   "source": [
    "products = prosto.populate(\n",
    "    # A table definition consists of a name and a list of attributes\n",
    "    table_name=\"Products\", attributes=[\"name\"],\n",
    "\n",
    "    # Table operation is UDF, input tables and model\n",
    "    func=lambda **m: pd.DataFrame(data={'name': [\"beer\", \"chips\", \"tee\"]}), tables=[]\n",
    ")"
   ]
  },
  {
   "cell_type": "markdown",
   "metadata": {},
   "source": [
    "### Define a link column\n",
    "\n",
    "A link column stores row ids of some other table. These row ids are interpreted as references and hence it is possible to use these columns in order to access values from other tables.\n",
    "\n",
    "In this example, we want to define a link from sales records to products."
   ]
  },
  {
   "cell_type": "code",
   "execution_count": 15,
   "metadata": {},
   "outputs": [],
   "source": [
    "link_column = prosto.link(\n",
    "    # In contrast to other columns, a link column specifies its target table name\n",
    "    name=\"product\", table=sales.id, type=products.id,\n",
    "\n",
    "    # It is a criterion of linking: all input columns have to be equal to the output columns\n",
    "    columns=[\"product_name\"], linked_columns=[\"name\"]\n",
    ")"
   ]
  },
  {
   "cell_type": "markdown",
   "metadata": {},
   "source": [
    "### Define an aggregate column\n",
    "\n",
    "This column belongs to the target table with all products, that is, it is treated as a new characteristic of each products. Yet, this characteristic is computed using groups of records selected another table."
   ]
  },
  {
   "cell_type": "code",
   "execution_count": 16,
   "metadata": {},
   "outputs": [],
   "source": [
    "total = prosto.aggregate(\n",
    "    # Column description\n",
    "    name=\"quantity_sold\", table=products.id,\n",
    "    # How to group\n",
    "    tables=[\"Sales\"], link=\"product\",\n",
    "    # How to aggregate\n",
    "    func=\"lambda x: x.sum()\", columns=[\"quantity\"], model={}\n",
    ")"
   ]
  },
  {
   "cell_type": "markdown",
   "metadata": {},
   "source": [
    "### Execute the workflow\n",
    "\n",
    "Above we provided only definitions. In order to really compute the result, we need to execute the workflow. This operation will build a topology (a graph of table and column operations) and then execute these operations according to their dependencies."
   ]
  },
  {
   "cell_type": "code",
   "execution_count": 17,
   "metadata": {},
   "outputs": [],
   "source": [
    "prosto.run()"
   ]
  },
  {
   "cell_type": "markdown",
   "metadata": {},
   "source": [
    "### Explore the result\n",
    "\n",
    "Once the workflow has been executed, we can read the result data. The expected sales counts are: 3.0 for beer, 6.0 for chips and 0.0 for tee. Note that tee is not present in the fact table and 0.0 is the default value."
   ]
  },
  {
   "cell_type": "code",
   "execution_count": 18,
   "metadata": {
    "scrolled": false
   },
   "outputs": [
    {
     "data": {
      "text/html": [
       "<div>\n",
       "<style scoped>\n",
       "    .dataframe tbody tr th:only-of-type {\n",
       "        vertical-align: middle;\n",
       "    }\n",
       "\n",
       "    .dataframe tbody tr th {\n",
       "        vertical-align: top;\n",
       "    }\n",
       "\n",
       "    .dataframe thead th {\n",
       "        text-align: right;\n",
       "    }\n",
       "</style>\n",
       "<table border=\"1\" class=\"dataframe\">\n",
       "  <thead>\n",
       "    <tr style=\"text-align: right;\">\n",
       "      <th></th>\n",
       "      <th>name</th>\n",
       "      <th>quantity_sold</th>\n",
       "    </tr>\n",
       "  </thead>\n",
       "  <tbody>\n",
       "    <tr>\n",
       "      <th>0</th>\n",
       "      <td>beer</td>\n",
       "      <td>3.0</td>\n",
       "    </tr>\n",
       "    <tr>\n",
       "      <th>1</th>\n",
       "      <td>chips</td>\n",
       "      <td>6.0</td>\n",
       "    </tr>\n",
       "    <tr>\n",
       "      <th>2</th>\n",
       "      <td>tee</td>\n",
       "      <td>0.0</td>\n",
       "    </tr>\n",
       "  </tbody>\n",
       "</table>\n",
       "</div>"
      ],
      "text/plain": [
       "    name  quantity_sold\n",
       "0   beer            3.0\n",
       "1  chips            6.0\n",
       "2    tee            0.0"
      ]
     },
     "execution_count": 18,
     "metadata": {},
     "output_type": "execute_result"
    }
   ],
   "source": [
    "table_data = products.get_data()\n",
    "table_data.head()"
   ]
  },
  {
   "cell_type": "markdown",
   "metadata": {},
   "source": [
    "### Summary\n",
    "\n",
    "* An aggregate column uses a link column as a specification of how to group records in another table\n",
    "* An aggregate column uses an arbitrary user-defined aggregate function for aggregation\n",
    "* An aggregation column can be further used in other definition as a normal column"
   ]
  }
 ],
 "metadata": {
  "kernelspec": {
   "display_name": "Python 3",
   "language": "python",
   "name": "python3"
  },
  "language_info": {
   "codemirror_mode": {
    "name": "ipython",
    "version": 3
   },
   "file_extension": ".py",
   "mimetype": "text/x-python",
   "name": "python",
   "nbconvert_exporter": "python",
   "pygments_lexer": "ipython3",
   "version": "3.7.6"
  }
 },
 "nbformat": 4,
 "nbformat_minor": 2
}
